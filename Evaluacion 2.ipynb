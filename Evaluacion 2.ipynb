{
 "cells": [
  {
   "cell_type": "markdown",
   "id": "cf25fd89-ee22-4de4-b4d0-31b47ccdc31f",
   "metadata": {},
   "source": [
    "# Evaluación 2\n",
    "\n",
    "## Nelson Posada Nava"
   ]
  },
  {
   "cell_type": "code",
   "execution_count": 6,
   "id": "d6db1bf9-090a-4a36-946f-2256a722e934",
   "metadata": {},
   "outputs": [],
   "source": [
    "import numpy as np"
   ]
  },
  {
   "cell_type": "markdown",
   "id": "f4361419-2787-4dc2-91ba-6b00b4562199",
   "metadata": {},
   "source": [
    "# Parte 1: Creación y manipulación de arrays\n",
    "\n",
    "### **Crear un array:** Crea un array de 10 elementos enteros aleatorios entre 1 y 100. Imprime el array generado."
   ]
  },
  {
   "cell_type": "code",
   "execution_count": 10,
   "id": "2ed5fca7-2bbb-49a1-9d34-18fff2507350",
   "metadata": {},
   "outputs": [
    {
     "name": "stdout",
     "output_type": "stream",
     "text": [
      "[60 17 40  8 91 11 25 59 91 35]\n"
     ]
    }
   ],
   "source": [
    "array_random = np.random.randint(1, 101, size=10)\n",
    "print(array_aleatorio)"
   ]
  },
  {
   "cell_type": "markdown",
   "id": "c8937632-e205-49fd-b2db-ab1cd0cad653",
   "metadata": {},
   "source": [
    "### **Reshape:** A partir del array anterior, convierte este array en una matriz de 2x5."
   ]
  },
  {
   "cell_type": "code",
   "execution_count": 11,
   "id": "90a8f88b-508f-4af2-85ae-42b3b3d97639",
   "metadata": {},
   "outputs": [
    {
     "name": "stdout",
     "output_type": "stream",
     "text": [
      "[[98 60 65 72 68]\n",
      " [33 67 96 77 88]]\n"
     ]
    }
   ],
   "source": [
    "mat_2x5 = array_random.reshape(2, 5)\n",
    "print(mat_2x5)"
   ]
  },
  {
   "cell_type": "markdown",
   "id": "7e76ccf5-57f9-4af3-9f38-f015432bbdfe",
   "metadata": {},
   "source": [
    "### **Indexación y slicing:** De la matriz obtenida, extrae la primera fila y la última columna. Imprime ambos resultados por separado.\n"
   ]
  },
  {
   "cell_type": "code",
   "execution_count": 18,
   "id": "039fdfc9-8739-4773-9622-3cafb5136b59",
   "metadata": {},
   "outputs": [
    {
     "name": "stdout",
     "output_type": "stream",
     "text": [
      "primera fila:  [98 60 65 72 68]\n",
      "última columna:  [68 88]\n"
     ]
    }
   ],
   "source": [
    "primera_fila = mat_2x5[0, :]\n",
    "\n",
    "ultima_columna = mat_2x5[:, -1]\n",
    "\n",
    "print(\"primera fila: \" , primera_fila)\n",
    "print(\"última columna: \", ultima_columna)\n"
   ]
  },
  {
   "cell_type": "markdown",
   "id": "157d8829-979a-46e8-90a3-5cbe8b9e0926",
   "metadata": {},
   "source": [
    "### **Modificación:** Cambia el valor de los elementos en la segunda fila a ceros."
   ]
  },
  {
   "cell_type": "code",
   "execution_count": 22,
   "id": "ddd9b4b6-30b5-41c1-aba8-c3fa03d6a62c",
   "metadata": {},
   "outputs": [
    {
     "name": "stdout",
     "output_type": "stream",
     "text": [
      "[[98 60 65 72 68]\n",
      " [ 0  0  0  0  0]]\n"
     ]
    }
   ],
   "source": [
    "mat_2x5[1, :] = 0\n",
    "print(mat_2x5)\n"
   ]
  },
  {
   "cell_type": "markdown",
   "id": "8d9fb937-ddc9-4d26-b829-270e0ff76da0",
   "metadata": {},
   "source": [
    "# Parte 2: Operaciones básicas con NumPy\n",
    "\n",
    "## **Operaciones aritméticas:**\n",
    "\n",
    "### Crea dos arrays de 5 elementos enteros aleatorios entre 1 y 50."
   ]
  },
  {
   "cell_type": "code",
   "execution_count": 24,
   "id": "dae6d468-0fb5-4d25-803c-e7212d5a53fe",
   "metadata": {},
   "outputs": [
    {
     "name": "stdout",
     "output_type": "stream",
     "text": [
      "Array 1:  [ 4 36  6 29 10]\n",
      "Array 2:  [15 36 37 39 50]\n"
     ]
    }
   ],
   "source": [
    "array1 = np.random.randint(1, 51, size=5)\n",
    "array2 = np.random.randint(1, 51, size=5)\n",
    "\n",
    "print(\"Array 1: \", array1)\n",
    "print(\"Array 2: \", array2)\n"
   ]
  },
  {
   "cell_type": "markdown",
   "id": "7788cda7-f0ed-4f53-b555-0148cf5ec83c",
   "metadata": {},
   "source": [
    "### Suma ambos arrays y luego multiplícalos entre sí."
   ]
  },
  {
   "cell_type": "code",
   "execution_count": 25,
   "id": "6dd8bd8f-3447-460d-b013-9e8bd9ed5a6a",
   "metadata": {},
   "outputs": [
    {
     "name": "stdout",
     "output_type": "stream",
     "text": [
      "suma:  [19 72 43 68 60]\n",
      "multiplicación:  [  60 1296  222 1131  500]\n"
     ]
    }
   ],
   "source": [
    "suma = array1 + array2\n",
    "\n",
    "mult = array1 * array2\n",
    "\n",
    "print(\"suma: \" , suma)\n",
    "\n",
    "print(\"multiplicación: \", mult)"
   ]
  },
  {
   "cell_type": "markdown",
   "id": "8253a104-ee45-463c-847d-edaf45d118f0",
   "metadata": {},
   "source": [
    "### Calcula el promedio y la desviación estándar de los resultados obtenidos."
   ]
  },
  {
   "cell_type": "code",
   "execution_count": 26,
   "id": "c78aa42c-fc8c-4e8c-a28a-fdf8708a91a0",
   "metadata": {},
   "outputs": [
    {
     "name": "stdout",
     "output_type": "stream",
     "text": [
      "Promedio de la suma: 52.4\n",
      "Desviación estándar de la suma: 19.4381069037085\n",
      "Promedio del producto: 641.8\n",
      "Desviación estándar del producto: 490.3314797155084\n"
     ]
    }
   ],
   "source": [
    "promedio_suma = np.mean(suma)\n",
    "desviacion_suma = np.std(suma)\n",
    "\n",
    "promedio_mult = np.mean(mult)\n",
    "desviacion_mult = np.std(mult)\n",
    "\n",
    "print(\"Promedio de la suma:\", promedio_suma)\n",
    "print(\"Desviación estándar de la suma:\", desviacion_suma)\n",
    "print(\"Promedio del producto:\", promedio_mult)\n",
    "print(\"Desviación estándar del producto:\", desviacion_mult)\n"
   ]
  },
  {
   "cell_type": "markdown",
   "id": "a660b327-d51a-41a7-8af8-4cb32d7cfa44",
   "metadata": {},
   "source": [
    "### Condiciones lógicas: Genera un array de 20 números aleatorios entre 0 y 1. Usa condiciones lógicas para reemplazar los valores menores a 0.5 con 0 y los valores mayores o iguales a 0.5 con 1.\n",
    "\n"
   ]
  },
  {
   "cell_type": "code",
   "execution_count": 31,
   "id": "4fcc9ca1-846c-4f33-b298-226c261f952d",
   "metadata": {},
   "outputs": [
    {
     "name": "stdout",
     "output_type": "stream",
     "text": [
      "Array original: [0.13403191 0.08097599 0.61083339 0.10872546 0.87790541 0.7308375\n",
      " 0.53734631 0.07660427 0.4578083  0.72619357 0.36082046 0.70211939\n",
      " 0.20976125 0.9916341  0.30101894 0.2343803  0.41408282 0.35205919\n",
      " 0.092647   0.11996459]\n",
      "Array modificado: [0 0 1 0 1 1 1 0 0 1 0 1 0 1 0 0 0 0 0 0]\n"
     ]
    }
   ],
   "source": [
    "array_random = np.random.rand(20)\n",
    "\n",
    "array_modificado = np.where(array_random < 0.5, 0, 1)\n",
    "\n",
    "print(\"Array original:\", array_random)\n",
    "print(\"Array modificado:\", array_modificado)\n"
   ]
  },
  {
   "cell_type": "markdown",
   "id": "8f92c330-a064-465f-ba29-fb784dd42d1f",
   "metadata": {},
   "source": [
    "### **Producto escalar:** Crea dos arrays de tamaño 3x3. Calcula el producto escalar entre ambos."
   ]
  },
  {
   "cell_type": "code",
   "execution_count": 35,
   "id": "547fe007-c75b-41b5-b89c-3126ea5d23d9",
   "metadata": {},
   "outputs": [
    {
     "name": "stdout",
     "output_type": "stream",
     "text": [
      "Array 1:\n",
      " [[ 5 10  6]\n",
      " [ 5  3  9]\n",
      " [ 9  9  7]]\n",
      "Array 2:\n",
      " [[9 8 9]\n",
      " [8 4 3]\n",
      " [8 9 3]]\n",
      "Producto escalar:\n",
      " [[173 134  93]\n",
      " [141 133  81]\n",
      " [209 171 129]]\n"
     ]
    }
   ],
   "source": [
    "array_1 = np.random.randint(1, 11, size=(3, 3))\n",
    "array_2 = np.random.randint(1, 11, size=(3, 3))\n",
    "\n",
    "producto_escalar = np.dot(array_1, array_2)\n",
    "\n",
    "print(\"Array 1:\\n\", array_1)\n",
    "print(\"Array 2:\\n\", array_2)\n",
    "print(\"Producto escalar:\\n\", producto_escalar)"
   ]
  },
  {
   "cell_type": "markdown",
   "id": "cdd510c7-6b52-400a-8c03-71f4fdc55c9a",
   "metadata": {},
   "source": [
    "# Parte 3: Análisis de datos con NumPy\n",
    "\n",
    "## **Operaciones aritméticas:**\n",
    "\n",
    "### **Matriz de datos:** Crea una matriz de 5 filas y 4 columnas que contenga datos aleatorios entre 1 y 20."
   ]
  },
  {
   "cell_type": "code",
   "execution_count": 36,
   "id": "4b0ec405-3927-4861-9827-0ac7009022ee",
   "metadata": {},
   "outputs": [
    {
     "name": "stdout",
     "output_type": "stream",
     "text": [
      "[[ 8  2  8 17]\n",
      " [18  5 18  8]\n",
      " [ 7  5 14  9]\n",
      " [11 12 13 13]\n",
      " [ 6  5 19 18]]\n"
     ]
    }
   ],
   "source": [
    "datos = np.random.randint(1, 21, size=(5, 4))\n",
    "\n",
    "# Imprimir la matriz\n",
    "print(datos)\n"
   ]
  },
  {
   "cell_type": "markdown",
   "id": "20e7f1d0-06cd-4aa1-9691-4097b190c435",
   "metadata": {},
   "source": [
    "### Calcula la media de cada columna (medición)."
   ]
  },
  {
   "cell_type": "code",
   "execution_count": 38,
   "id": "a0cd1843-dcc1-4d9e-a54a-c794512934ad",
   "metadata": {},
   "outputs": [
    {
     "name": "stdout",
     "output_type": "stream",
     "text": [
      "Media de cada columna: [10.   5.8 14.4 13. ]\n"
     ]
    }
   ],
   "source": [
    "media_columnas = np.mean(datos, axis=0)\n",
    "\n",
    "print(\"Media de cada columna:\", media_columnas)\n"
   ]
  },
  {
   "cell_type": "markdown",
   "id": "3fb90bdd-f209-4c5f-bbf2-0a8011a441c5",
   "metadata": {},
   "source": [
    "### Encuentra el valor máximo y mínimo de cada fila."
   ]
  },
  {
   "cell_type": "code",
   "execution_count": 39,
   "id": "3a84d0f2-40d9-442b-94f9-94e32124f1a7",
   "metadata": {},
   "outputs": [
    {
     "name": "stdout",
     "output_type": "stream",
     "text": [
      "Máximos de cada fila: [17 18 14 13 19]\n",
      "Mínimos de cada fila: [ 2  5  5 11  5]\n"
     ]
    }
   ],
   "source": [
    "maximos_filas = np.max(datos, axis=1)\n",
    "minimos_filas = np.min(datos, axis=1)\n",
    "\n",
    "print(\"Máximos de cada fila:\", maximos_filas)\n",
    "print(\"Mínimos de cada fila:\", minimos_filas)\n"
   ]
  },
  {
   "cell_type": "markdown",
   "id": "3834c559-56f6-4814-908d-783e78a434d8",
   "metadata": {},
   "source": [
    "### Ordena las filas según los valores de la segunda columna (peso)."
   ]
  },
  {
   "cell_type": "code",
   "execution_count": 41,
   "id": "ba800fa5-9a90-4c85-a828-d0495ee65619",
   "metadata": {},
   "outputs": [
    {
     "name": "stdout",
     "output_type": "stream",
     "text": [
      "Matriz ordenada según el peso:\n",
      " [[ 8  2  8 17]\n",
      " [18  5 18  8]\n",
      " [ 7  5 14  9]\n",
      " [ 6  5 19 18]\n",
      " [11 12 13 13]]\n"
     ]
    }
   ],
   "source": [
    "mat_ordenada = datos[np.argsort(datos[:, 1])]\n",
    "\n",
    "print(\"Matriz ordenada según el peso:\\n\", mat_ordenada)\n"
   ]
  }
 ],
 "metadata": {
  "kernelspec": {
   "display_name": "Python 3 (ipykernel)",
   "language": "python",
   "name": "python3"
  },
  "language_info": {
   "codemirror_mode": {
    "name": "ipython",
    "version": 3
   },
   "file_extension": ".py",
   "mimetype": "text/x-python",
   "name": "python",
   "nbconvert_exporter": "python",
   "pygments_lexer": "ipython3",
   "version": "3.12.6"
  }
 },
 "nbformat": 4,
 "nbformat_minor": 5
}
